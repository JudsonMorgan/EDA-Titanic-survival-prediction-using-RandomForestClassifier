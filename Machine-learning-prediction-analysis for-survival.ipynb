{
 "cells": [
  {
   "cell_type": "markdown",
   "metadata": {},
   "source": [
    "# A machine learning prediction analysis for survival on Titanic"
   ]
  },
  {
   "cell_type": "markdown",
   "metadata": {},
   "source": [
    "# 1. Problem definition:\n",
    "> using machine learning to create a model that predicts which passengers survived the Titanic shipwreck.\n",
    "# 2. Data\n",
    "The data for the project is gotten from the legendary Titanic ML competition on kaggle. check the link https://www.kaggle.com/c/titanic/data .\n",
    "The data has been split into two group:\n",
    "* training set (train.csv)\n",
    "* test set (test.csv)\n",
    "\n",
    "**Note:** The training set should be used to build your machine learning models. For the training set, we provide the outcome (also known as the “ground truth”) for each passenger. Your model will be based on “features” like passengers’ gender and class. You can also use feature engineering to create new features.\n",
    "\n",
    "The test set should be used to see how well your model performs on unseen data. For the test set, we do not provide the ground truth for each passenger. It is your job to predict these outcomes. For each passenger in the test set, use the model you trained to predict whether or not they survived the sinking of the Titanic.\n",
    "\n",
    "We also include gender_submission.csv, a set of predictions that assume all and only female passengers survive, as an example of what a submission file should look like.\n",
    "\n",
    "**Data dictionary**\n",
    "\n",
    "\n",
    "Variable\tDefinition\tKey\n",
    "survival\tSurvival\t0 = No, 1 = Yes\n",
    "pclass\tTicket class\t1 = 1st, 2 = 2nd, 3 = 3rd\n",
    "sex\tSex\t\n",
    "Age\tAge in years\t\n",
    "sibsp\t# of siblings / spouses aboard the Titanic\t\n",
    "parch\t# of parents / children aboard the Titanic\t\n",
    "ticket\tTicket number\t\n",
    "fare\tPassenger fare\t\n",
    "cabin\tCabin number\t\n",
    "embarked\tPort of Embarkation\tC = Cherbourg, Q = Queenstown, S = Southampton\n",
    "\n",
    "# 3. Evaluation\n",
    "The goal of this project is to predict if a passenger survived the sinking of the Titanic or not.\n",
    "For each in the test set, you must predict a 0 or 1 value for the variable.\n",
    "\n",
    "**Metric**\n",
    "Your score is the percentage of passengers you correctly predict. This is known as ***accuracy.***\n",
    "\n",
    "# 4. Features\n",
    "This project is centered on using the given dependent variables on the data set say `X` to predict the independent variable (target variable) say `y`.\n",
    "\n",
    "# 5. Modelling\n",
    "For the purpose of this project since it is a classification problem that tells if a pessenger survives the shipwerk or not. Will be using a RandomForest Classifier from our trusted `ensemble` method from sklearn library.\n",
    "\n",
    "# 6. Experimentation\n",
    "Finally, we will carry out hyper parameter tuning on the RandomForest classifier to improve the accuracy score of the model."
   ]
  },
  {
   "cell_type": "code",
   "execution_count": 1,
   "metadata": {},
   "outputs": [],
   "source": [
    "## import for EDA \n",
    "%matplotlib inline\n",
    "import numpy as np\n",
    "import pandas as pd\n",
    "import matplotlib.pyplot as plt\n",
    "import seaborn as sns"
   ]
  },
  {
   "cell_type": "code",
   "execution_count": 2,
   "metadata": {},
   "outputs": [],
   "source": [
    "# load the data\n",
    "df = pd.read_csv(\"data/titanic/train.csv\")"
   ]
  },
  {
   "cell_type": "code",
   "execution_count": 3,
   "metadata": {},
   "outputs": [
    {
     "data": {
      "text/html": [
       "<div>\n",
       "<style scoped>\n",
       "    .dataframe tbody tr th:only-of-type {\n",
       "        vertical-align: middle;\n",
       "    }\n",
       "\n",
       "    .dataframe tbody tr th {\n",
       "        vertical-align: top;\n",
       "    }\n",
       "\n",
       "    .dataframe thead th {\n",
       "        text-align: right;\n",
       "    }\n",
       "</style>\n",
       "<table border=\"1\" class=\"dataframe\">\n",
       "  <thead>\n",
       "    <tr style=\"text-align: right;\">\n",
       "      <th></th>\n",
       "      <th>PassengerId</th>\n",
       "      <th>Survived</th>\n",
       "      <th>Pclass</th>\n",
       "      <th>Name</th>\n",
       "      <th>Sex</th>\n",
       "      <th>Age</th>\n",
       "      <th>SibSp</th>\n",
       "      <th>Parch</th>\n",
       "      <th>Ticket</th>\n",
       "      <th>Fare</th>\n",
       "      <th>Cabin</th>\n",
       "      <th>Embarked</th>\n",
       "    </tr>\n",
       "  </thead>\n",
       "  <tbody>\n",
       "    <tr>\n",
       "      <th>0</th>\n",
       "      <td>1</td>\n",
       "      <td>0</td>\n",
       "      <td>3</td>\n",
       "      <td>Braund, Mr. Owen Harris</td>\n",
       "      <td>male</td>\n",
       "      <td>22.0</td>\n",
       "      <td>1</td>\n",
       "      <td>0</td>\n",
       "      <td>A/5 21171</td>\n",
       "      <td>7.2500</td>\n",
       "      <td>NaN</td>\n",
       "      <td>S</td>\n",
       "    </tr>\n",
       "    <tr>\n",
       "      <th>1</th>\n",
       "      <td>2</td>\n",
       "      <td>1</td>\n",
       "      <td>1</td>\n",
       "      <td>Cumings, Mrs. John Bradley (Florence Briggs Th...</td>\n",
       "      <td>female</td>\n",
       "      <td>38.0</td>\n",
       "      <td>1</td>\n",
       "      <td>0</td>\n",
       "      <td>PC 17599</td>\n",
       "      <td>71.2833</td>\n",
       "      <td>C85</td>\n",
       "      <td>C</td>\n",
       "    </tr>\n",
       "    <tr>\n",
       "      <th>2</th>\n",
       "      <td>3</td>\n",
       "      <td>1</td>\n",
       "      <td>3</td>\n",
       "      <td>Heikkinen, Miss. Laina</td>\n",
       "      <td>female</td>\n",
       "      <td>26.0</td>\n",
       "      <td>0</td>\n",
       "      <td>0</td>\n",
       "      <td>STON/O2. 3101282</td>\n",
       "      <td>7.9250</td>\n",
       "      <td>NaN</td>\n",
       "      <td>S</td>\n",
       "    </tr>\n",
       "    <tr>\n",
       "      <th>3</th>\n",
       "      <td>4</td>\n",
       "      <td>1</td>\n",
       "      <td>1</td>\n",
       "      <td>Futrelle, Mrs. Jacques Heath (Lily May Peel)</td>\n",
       "      <td>female</td>\n",
       "      <td>35.0</td>\n",
       "      <td>1</td>\n",
       "      <td>0</td>\n",
       "      <td>113803</td>\n",
       "      <td>53.1000</td>\n",
       "      <td>C123</td>\n",
       "      <td>S</td>\n",
       "    </tr>\n",
       "    <tr>\n",
       "      <th>4</th>\n",
       "      <td>5</td>\n",
       "      <td>0</td>\n",
       "      <td>3</td>\n",
       "      <td>Allen, Mr. William Henry</td>\n",
       "      <td>male</td>\n",
       "      <td>35.0</td>\n",
       "      <td>0</td>\n",
       "      <td>0</td>\n",
       "      <td>373450</td>\n",
       "      <td>8.0500</td>\n",
       "      <td>NaN</td>\n",
       "      <td>S</td>\n",
       "    </tr>\n",
       "  </tbody>\n",
       "</table>\n",
       "</div>"
      ],
      "text/plain": [
       "   PassengerId  Survived  Pclass  \\\n",
       "0            1         0       3   \n",
       "1            2         1       1   \n",
       "2            3         1       3   \n",
       "3            4         1       1   \n",
       "4            5         0       3   \n",
       "\n",
       "                                                Name     Sex   Age  SibSp  \\\n",
       "0                            Braund, Mr. Owen Harris    male  22.0      1   \n",
       "1  Cumings, Mrs. John Bradley (Florence Briggs Th...  female  38.0      1   \n",
       "2                             Heikkinen, Miss. Laina  female  26.0      0   \n",
       "3       Futrelle, Mrs. Jacques Heath (Lily May Peel)  female  35.0      1   \n",
       "4                           Allen, Mr. William Henry    male  35.0      0   \n",
       "\n",
       "   Parch            Ticket     Fare Cabin Embarked  \n",
       "0      0         A/5 21171   7.2500   NaN        S  \n",
       "1      0          PC 17599  71.2833   C85        C  \n",
       "2      0  STON/O2. 3101282   7.9250   NaN        S  \n",
       "3      0            113803  53.1000  C123        S  \n",
       "4      0            373450   8.0500   NaN        S  "
      ]
     },
     "execution_count": 3,
     "metadata": {},
     "output_type": "execute_result"
    }
   ],
   "source": [
    "df.head()"
   ]
  },
  {
   "cell_type": "code",
   "execution_count": 4,
   "metadata": {},
   "outputs": [
    {
     "data": {
      "text/plain": [
       "Index(['PassengerId', 'Survived', 'Pclass', 'Name', 'Sex', 'Age', 'SibSp',\n",
       "       'Parch', 'Ticket', 'Fare', 'Cabin', 'Embarked'],\n",
       "      dtype='object')"
      ]
     },
     "execution_count": 4,
     "metadata": {},
     "output_type": "execute_result"
    }
   ],
   "source": [
    "df.columns"
   ]
  },
  {
   "cell_type": "code",
   "execution_count": 5,
   "metadata": {},
   "outputs": [
    {
     "name": "stdout",
     "output_type": "stream",
     "text": [
      "<class 'pandas.core.frame.DataFrame'>\n",
      "RangeIndex: 891 entries, 0 to 890\n",
      "Data columns (total 12 columns):\n",
      " #   Column       Non-Null Count  Dtype  \n",
      "---  ------       --------------  -----  \n",
      " 0   PassengerId  891 non-null    int64  \n",
      " 1   Survived     891 non-null    int64  \n",
      " 2   Pclass       891 non-null    int64  \n",
      " 3   Name         891 non-null    object \n",
      " 4   Sex          891 non-null    object \n",
      " 5   Age          714 non-null    float64\n",
      " 6   SibSp        891 non-null    int64  \n",
      " 7   Parch        891 non-null    int64  \n",
      " 8   Ticket       891 non-null    object \n",
      " 9   Fare         891 non-null    float64\n",
      " 10  Cabin        204 non-null    object \n",
      " 11  Embarked     889 non-null    object \n",
      "dtypes: float64(2), int64(5), object(5)\n",
      "memory usage: 83.7+ KB\n"
     ]
    }
   ],
   "source": [
    "df.info()"
   ]
  },
  {
   "cell_type": "code",
   "execution_count": 6,
   "metadata": {},
   "outputs": [
    {
     "data": {
      "text/plain": [
       "<bound method NDFrame.describe of      PassengerId  Survived  Pclass  \\\n",
       "0              1         0       3   \n",
       "1              2         1       1   \n",
       "2              3         1       3   \n",
       "3              4         1       1   \n",
       "4              5         0       3   \n",
       "..           ...       ...     ...   \n",
       "886          887         0       2   \n",
       "887          888         1       1   \n",
       "888          889         0       3   \n",
       "889          890         1       1   \n",
       "890          891         0       3   \n",
       "\n",
       "                                                  Name     Sex   Age  SibSp  \\\n",
       "0                              Braund, Mr. Owen Harris    male  22.0      1   \n",
       "1    Cumings, Mrs. John Bradley (Florence Briggs Th...  female  38.0      1   \n",
       "2                               Heikkinen, Miss. Laina  female  26.0      0   \n",
       "3         Futrelle, Mrs. Jacques Heath (Lily May Peel)  female  35.0      1   \n",
       "4                             Allen, Mr. William Henry    male  35.0      0   \n",
       "..                                                 ...     ...   ...    ...   \n",
       "886                              Montvila, Rev. Juozas    male  27.0      0   \n",
       "887                       Graham, Miss. Margaret Edith  female  19.0      0   \n",
       "888           Johnston, Miss. Catherine Helen \"Carrie\"  female   NaN      1   \n",
       "889                              Behr, Mr. Karl Howell    male  26.0      0   \n",
       "890                                Dooley, Mr. Patrick    male  32.0      0   \n",
       "\n",
       "     Parch            Ticket     Fare Cabin Embarked  \n",
       "0        0         A/5 21171   7.2500   NaN        S  \n",
       "1        0          PC 17599  71.2833   C85        C  \n",
       "2        0  STON/O2. 3101282   7.9250   NaN        S  \n",
       "3        0            113803  53.1000  C123        S  \n",
       "4        0            373450   8.0500   NaN        S  \n",
       "..     ...               ...      ...   ...      ...  \n",
       "886      0            211536  13.0000   NaN        S  \n",
       "887      0            112053  30.0000   B42        S  \n",
       "888      2        W./C. 6607  23.4500   NaN        S  \n",
       "889      0            111369  30.0000  C148        C  \n",
       "890      0            370376   7.7500   NaN        Q  \n",
       "\n",
       "[891 rows x 12 columns]>"
      ]
     },
     "execution_count": 6,
     "metadata": {},
     "output_type": "execute_result"
    }
   ],
   "source": [
    "df.describe"
   ]
  },
  {
   "cell_type": "code",
   "execution_count": 7,
   "metadata": {},
   "outputs": [
    {
     "name": "stdout",
     "output_type": "stream",
     "text": [
      "Cabin\n",
      "Embarked\n"
     ]
    }
   ],
   "source": [
    "# A for loop to check which of the categorical column has a null value\n",
    "for label, content in df.items():\n",
    "    if not pd.api.types.is_numeric_dtype(content):\n",
    "        if pd.isnull(content).sum():\n",
    "            print(label)    "
   ]
  },
  {
   "cell_type": "code",
   "execution_count": 8,
   "metadata": {},
   "outputs": [
    {
     "name": "stdout",
     "output_type": "stream",
     "text": [
      "Age\n"
     ]
    }
   ],
   "source": [
    "# A for loop to check which numerical columns has null value\n",
    "for label, content in df.items():\n",
    "    if pd.api.types.is_numeric_dtype(content):\n",
    "        if pd.isnull(content).sum():\n",
    "            print(label)"
   ]
  },
  {
   "cell_type": "code",
   "execution_count": 9,
   "metadata": {},
   "outputs": [
    {
     "data": {
      "text/html": [
       "<div>\n",
       "<style scoped>\n",
       "    .dataframe tbody tr th:only-of-type {\n",
       "        vertical-align: middle;\n",
       "    }\n",
       "\n",
       "    .dataframe tbody tr th {\n",
       "        vertical-align: top;\n",
       "    }\n",
       "\n",
       "    .dataframe thead th {\n",
       "        text-align: right;\n",
       "    }\n",
       "</style>\n",
       "<table border=\"1\" class=\"dataframe\">\n",
       "  <thead>\n",
       "    <tr style=\"text-align: right;\">\n",
       "      <th></th>\n",
       "      <th>PassengerId</th>\n",
       "      <th>Survived</th>\n",
       "      <th>Pclass</th>\n",
       "      <th>Age</th>\n",
       "      <th>SibSp</th>\n",
       "      <th>Parch</th>\n",
       "      <th>Fare</th>\n",
       "    </tr>\n",
       "  </thead>\n",
       "  <tbody>\n",
       "    <tr>\n",
       "      <th>PassengerId</th>\n",
       "      <td>1.000000</td>\n",
       "      <td>-0.005007</td>\n",
       "      <td>-0.035144</td>\n",
       "      <td>0.036847</td>\n",
       "      <td>-0.057527</td>\n",
       "      <td>-0.001652</td>\n",
       "      <td>0.012658</td>\n",
       "    </tr>\n",
       "    <tr>\n",
       "      <th>Survived</th>\n",
       "      <td>-0.005007</td>\n",
       "      <td>1.000000</td>\n",
       "      <td>-0.338481</td>\n",
       "      <td>-0.077221</td>\n",
       "      <td>-0.035322</td>\n",
       "      <td>0.081629</td>\n",
       "      <td>0.257307</td>\n",
       "    </tr>\n",
       "    <tr>\n",
       "      <th>Pclass</th>\n",
       "      <td>-0.035144</td>\n",
       "      <td>-0.338481</td>\n",
       "      <td>1.000000</td>\n",
       "      <td>-0.369226</td>\n",
       "      <td>0.083081</td>\n",
       "      <td>0.018443</td>\n",
       "      <td>-0.549500</td>\n",
       "    </tr>\n",
       "    <tr>\n",
       "      <th>Age</th>\n",
       "      <td>0.036847</td>\n",
       "      <td>-0.077221</td>\n",
       "      <td>-0.369226</td>\n",
       "      <td>1.000000</td>\n",
       "      <td>-0.308247</td>\n",
       "      <td>-0.189119</td>\n",
       "      <td>0.096067</td>\n",
       "    </tr>\n",
       "    <tr>\n",
       "      <th>SibSp</th>\n",
       "      <td>-0.057527</td>\n",
       "      <td>-0.035322</td>\n",
       "      <td>0.083081</td>\n",
       "      <td>-0.308247</td>\n",
       "      <td>1.000000</td>\n",
       "      <td>0.414838</td>\n",
       "      <td>0.159651</td>\n",
       "    </tr>\n",
       "    <tr>\n",
       "      <th>Parch</th>\n",
       "      <td>-0.001652</td>\n",
       "      <td>0.081629</td>\n",
       "      <td>0.018443</td>\n",
       "      <td>-0.189119</td>\n",
       "      <td>0.414838</td>\n",
       "      <td>1.000000</td>\n",
       "      <td>0.216225</td>\n",
       "    </tr>\n",
       "    <tr>\n",
       "      <th>Fare</th>\n",
       "      <td>0.012658</td>\n",
       "      <td>0.257307</td>\n",
       "      <td>-0.549500</td>\n",
       "      <td>0.096067</td>\n",
       "      <td>0.159651</td>\n",
       "      <td>0.216225</td>\n",
       "      <td>1.000000</td>\n",
       "    </tr>\n",
       "  </tbody>\n",
       "</table>\n",
       "</div>"
      ],
      "text/plain": [
       "             PassengerId  Survived    Pclass       Age     SibSp     Parch  \\\n",
       "PassengerId     1.000000 -0.005007 -0.035144  0.036847 -0.057527 -0.001652   \n",
       "Survived       -0.005007  1.000000 -0.338481 -0.077221 -0.035322  0.081629   \n",
       "Pclass         -0.035144 -0.338481  1.000000 -0.369226  0.083081  0.018443   \n",
       "Age             0.036847 -0.077221 -0.369226  1.000000 -0.308247 -0.189119   \n",
       "SibSp          -0.057527 -0.035322  0.083081 -0.308247  1.000000  0.414838   \n",
       "Parch          -0.001652  0.081629  0.018443 -0.189119  0.414838  1.000000   \n",
       "Fare            0.012658  0.257307 -0.549500  0.096067  0.159651  0.216225   \n",
       "\n",
       "                 Fare  \n",
       "PassengerId  0.012658  \n",
       "Survived     0.257307  \n",
       "Pclass      -0.549500  \n",
       "Age          0.096067  \n",
       "SibSp        0.159651  \n",
       "Parch        0.216225  \n",
       "Fare         1.000000  "
      ]
     },
     "execution_count": 9,
     "metadata": {},
     "output_type": "execute_result"
    }
   ],
   "source": [
    "conf_mat = df.corr()\n",
    "conf_mat"
   ]
  },
  {
   "cell_type": "code",
   "execution_count": 10,
   "metadata": {},
   "outputs": [
    {
     "data": {
      "image/png": "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\n",
      "text/plain": [
       "<Figure size 720x432 with 2 Axes>"
      ]
     },
     "metadata": {
      "needs_background": "light"
     },
     "output_type": "display_data"
    }
   ],
   "source": [
    "# plot the correlation matrix of the dataframe\n",
    "fig, ax = plt.subplots(figsize=(10,6))\n",
    "sns.heatmap(conf_mat,\n",
    "            fmt=\".2f\",\n",
    "              cmap=\"YlGnBu\");"
   ]
  },
  {
   "cell_type": "code",
   "execution_count": 11,
   "metadata": {},
   "outputs": [],
   "source": [
    "## Fill the missing values \n",
    "df.Age.fillna(df.Age.median(),inplace=True)"
   ]
  },
  {
   "cell_type": "code",
   "execution_count": 12,
   "metadata": {},
   "outputs": [
    {
     "data": {
      "text/plain": [
       "0"
      ]
     },
     "execution_count": 12,
     "metadata": {},
     "output_type": "execute_result"
    }
   ],
   "source": [
    "df.Age.isna().sum()"
   ]
  },
  {
   "cell_type": "code",
   "execution_count": 13,
   "metadata": {},
   "outputs": [],
   "source": [
    "df.Cabin.fillna(\"missing\", inplace=True)\n",
    "df.Embarked.fillna(\"missing\", inplace=True)"
   ]
  },
  {
   "cell_type": "code",
   "execution_count": 14,
   "metadata": {},
   "outputs": [
    {
     "data": {
      "text/plain": [
       "(0, 0)"
      ]
     },
     "execution_count": 14,
     "metadata": {},
     "output_type": "execute_result"
    }
   ],
   "source": [
    "df.Cabin.isna().sum(), df.Embarked.isna().sum()"
   ]
  },
  {
   "cell_type": "code",
   "execution_count": 15,
   "metadata": {},
   "outputs": [
    {
     "data": {
      "text/plain": [
       "0    549\n",
       "1    342\n",
       "Name: Survived, dtype: int64"
      ]
     },
     "execution_count": 15,
     "metadata": {},
     "output_type": "execute_result"
    }
   ],
   "source": [
    "df.Survived.value_counts()"
   ]
  },
  {
   "cell_type": "code",
   "execution_count": 16,
   "metadata": {},
   "outputs": [
    {
     "data": {
      "image/png": "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\n",
      "text/plain": [
       "<Figure size 432x288 with 1 Axes>"
      ]
     },
     "metadata": {
      "needs_background": "light"
     },
     "output_type": "display_data"
    }
   ],
   "source": [
    "fig,ax = plt.subplots()\n",
    "ax.scatter(df.Age[df.Survived]==1,\n",
    "           df.Pclass[df.Survived]==1,\n",
    "          color=\"darkblue\")\n",
    "\n",
    "ax.scatter(df.Age[df.Survived]==0,\n",
    "          df.Pclass[df.Survived]==0,\n",
    "          c=\"orange\")\n",
    "ax.legend([\"Survived\", \"not survived\"])\n",
    "\n",
    "plt.xlabel=(\"Age\")\n",
    "plt.ylabel=(\"passenger class\")"
   ]
  },
  {
   "cell_type": "code",
   "execution_count": 17,
   "metadata": {},
   "outputs": [],
   "source": [
    "# import model from sklearn\n",
    "from sklearn.ensemble import RandomForestClassifier\n",
    "from sklearn.model_selection import train_test_split\n",
    "from sklearn.model_selection import cross_val_score\n",
    "from sklearn.metrics import accuracy_score,classification_report,confusion_matrix\n",
    "from sklearn.metrics import precision_score,recall_score,f1_score\n",
    "from sklearn.metrics import roc_curve\n",
    "from sklearn.model_selection import RandomizedSearchCV\n",
    "from sklearn.preprocessing import OneHotEncoder\n",
    "from sklearn.compose import ColumnTransformer"
   ]
  },
  {
   "cell_type": "code",
   "execution_count": 18,
   "metadata": {},
   "outputs": [
    {
     "name": "stdout",
     "output_type": "stream",
     "text": [
      "Name\n",
      "Sex\n",
      "Ticket\n",
      "Cabin\n",
      "Embarked\n"
     ]
    }
   ],
   "source": [
    "# Check for columns which are not numerical \n",
    "for label, content in df.items():\n",
    "    if not pd.api.types.is_numeric_dtype(content):\n",
    "        print(label)"
   ]
  },
  {
   "cell_type": "code",
   "execution_count": 19,
   "metadata": {},
   "outputs": [],
   "source": [
    "# split our data into feature and label\n",
    "X = df.drop(\"Survived\", axis=1)\n",
    "y = df[\"Survived\"]"
   ]
  },
  {
   "cell_type": "code",
   "execution_count": 20,
   "metadata": {},
   "outputs": [
    {
     "data": {
      "text/plain": [
       "<891x1732 sparse matrix of type '<class 'numpy.float64'>'\n",
       "\twith 8500 stored elements in Compressed Sparse Row format>"
      ]
     },
     "execution_count": 20,
     "metadata": {},
     "output_type": "execute_result"
    }
   ],
   "source": [
    "# Converting categorical to numerical \n",
    "Categorical_features = [\"Name\", \"Sex\", \"Ticket\", \"Cabin\", \"Embarked\"]\n",
    "one_hot = OneHotEncoder()\n",
    "transformer = ColumnTransformer([(\"one_hot\",\n",
    "                               one_hot,\n",
    "                               Categorical_features)],\n",
    "                             remainder = \"passthrough\")\n",
    "\n",
    "transformed_X = transformer.fit_transform(X)\n",
    "transformed_X"
   ]
  },
  {
   "cell_type": "code",
   "execution_count": 21,
   "metadata": {},
   "outputs": [
    {
     "data": {
      "text/html": [
       "<div>\n",
       "<style scoped>\n",
       "    .dataframe tbody tr th:only-of-type {\n",
       "        vertical-align: middle;\n",
       "    }\n",
       "\n",
       "    .dataframe tbody tr th {\n",
       "        vertical-align: top;\n",
       "    }\n",
       "\n",
       "    .dataframe thead th {\n",
       "        text-align: right;\n",
       "    }\n",
       "</style>\n",
       "<table border=\"1\" class=\"dataframe\">\n",
       "  <thead>\n",
       "    <tr style=\"text-align: right;\">\n",
       "      <th></th>\n",
       "      <th>0</th>\n",
       "    </tr>\n",
       "  </thead>\n",
       "  <tbody>\n",
       "    <tr>\n",
       "      <th>0</th>\n",
       "      <td>(0, 108)\\t1.0\\n  (0, 892)\\t1.0\\n  (0, 1416)\\...</td>\n",
       "    </tr>\n",
       "    <tr>\n",
       "      <th>1</th>\n",
       "      <td>(0, 190)\\t1.0\\n  (0, 891)\\t1.0\\n  (0, 1489)\\...</td>\n",
       "    </tr>\n",
       "    <tr>\n",
       "      <th>2</th>\n",
       "      <td>(0, 353)\\t1.0\\n  (0, 891)\\t1.0\\n  (0, 1562)\\...</td>\n",
       "    </tr>\n",
       "    <tr>\n",
       "      <th>3</th>\n",
       "      <td>(0, 272)\\t1.0\\n  (0, 891)\\t1.0\\n  (0, 942)\\t...</td>\n",
       "    </tr>\n",
       "    <tr>\n",
       "      <th>4</th>\n",
       "      <td>(0, 15)\\t1.0\\n  (0, 892)\\t1.0\\n  (0, 1365)\\t...</td>\n",
       "    </tr>\n",
       "    <tr>\n",
       "      <th>...</th>\n",
       "      <td>...</td>\n",
       "    </tr>\n",
       "    <tr>\n",
       "      <th>886</th>\n",
       "      <td>(0, 548)\\t1.0\\n  (0, 892)\\t1.0\\n  (0, 994)\\t...</td>\n",
       "    </tr>\n",
       "    <tr>\n",
       "      <th>887</th>\n",
       "      <td>(0, 303)\\t1.0\\n  (0, 891)\\t1.0\\n  (0, 907)\\t...</td>\n",
       "    </tr>\n",
       "    <tr>\n",
       "      <th>888</th>\n",
       "      <td>(0, 413)\\t1.0\\n  (0, 891)\\t1.0\\n  (0, 1568)\\...</td>\n",
       "    </tr>\n",
       "    <tr>\n",
       "      <th>889</th>\n",
       "      <td>(0, 81)\\t1.0\\n  (0, 892)\\t1.0\\n  (0, 901)\\t1...</td>\n",
       "    </tr>\n",
       "    <tr>\n",
       "      <th>890</th>\n",
       "      <td>(0, 220)\\t1.0\\n  (0, 892)\\t1.0\\n  (0, 1359)\\...</td>\n",
       "    </tr>\n",
       "  </tbody>\n",
       "</table>\n",
       "<p>891 rows × 1 columns</p>\n",
       "</div>"
      ],
      "text/plain": [
       "                                                     0\n",
       "0      (0, 108)\\t1.0\\n  (0, 892)\\t1.0\\n  (0, 1416)\\...\n",
       "1      (0, 190)\\t1.0\\n  (0, 891)\\t1.0\\n  (0, 1489)\\...\n",
       "2      (0, 353)\\t1.0\\n  (0, 891)\\t1.0\\n  (0, 1562)\\...\n",
       "3      (0, 272)\\t1.0\\n  (0, 891)\\t1.0\\n  (0, 942)\\t...\n",
       "4      (0, 15)\\t1.0\\n  (0, 892)\\t1.0\\n  (0, 1365)\\t...\n",
       "..                                                 ...\n",
       "886    (0, 548)\\t1.0\\n  (0, 892)\\t1.0\\n  (0, 994)\\t...\n",
       "887    (0, 303)\\t1.0\\n  (0, 891)\\t1.0\\n  (0, 907)\\t...\n",
       "888    (0, 413)\\t1.0\\n  (0, 891)\\t1.0\\n  (0, 1568)\\...\n",
       "889    (0, 81)\\t1.0\\n  (0, 892)\\t1.0\\n  (0, 901)\\t1...\n",
       "890    (0, 220)\\t1.0\\n  (0, 892)\\t1.0\\n  (0, 1359)\\...\n",
       "\n",
       "[891 rows x 1 columns]"
      ]
     },
     "execution_count": 21,
     "metadata": {},
     "output_type": "execute_result"
    }
   ],
   "source": [
    "transformed_data = pd.DataFrame(transformed_X)\n",
    "transformed_data\n",
    "                               "
   ]
  },
  {
   "cell_type": "code",
   "execution_count": 22,
   "metadata": {},
   "outputs": [
    {
     "data": {
      "text/html": [
       "<div>\n",
       "<style scoped>\n",
       "    .dataframe tbody tr th:only-of-type {\n",
       "        vertical-align: middle;\n",
       "    }\n",
       "\n",
       "    .dataframe tbody tr th {\n",
       "        vertical-align: top;\n",
       "    }\n",
       "\n",
       "    .dataframe thead th {\n",
       "        text-align: right;\n",
       "    }\n",
       "</style>\n",
       "<table border=\"1\" class=\"dataframe\">\n",
       "  <thead>\n",
       "    <tr style=\"text-align: right;\">\n",
       "      <th></th>\n",
       "      <th>PassengerId</th>\n",
       "      <th>Survived</th>\n",
       "      <th>Pclass</th>\n",
       "      <th>Name</th>\n",
       "      <th>Sex</th>\n",
       "      <th>Age</th>\n",
       "      <th>SibSp</th>\n",
       "      <th>Parch</th>\n",
       "      <th>Ticket</th>\n",
       "      <th>Fare</th>\n",
       "      <th>Cabin</th>\n",
       "      <th>Embarked</th>\n",
       "    </tr>\n",
       "  </thead>\n",
       "  <tbody>\n",
       "    <tr>\n",
       "      <th>0</th>\n",
       "      <td>1</td>\n",
       "      <td>0</td>\n",
       "      <td>3</td>\n",
       "      <td>Braund, Mr. Owen Harris</td>\n",
       "      <td>male</td>\n",
       "      <td>22.0</td>\n",
       "      <td>1</td>\n",
       "      <td>0</td>\n",
       "      <td>A/5 21171</td>\n",
       "      <td>7.2500</td>\n",
       "      <td>missing</td>\n",
       "      <td>S</td>\n",
       "    </tr>\n",
       "    <tr>\n",
       "      <th>1</th>\n",
       "      <td>2</td>\n",
       "      <td>1</td>\n",
       "      <td>1</td>\n",
       "      <td>Cumings, Mrs. John Bradley (Florence Briggs Th...</td>\n",
       "      <td>female</td>\n",
       "      <td>38.0</td>\n",
       "      <td>1</td>\n",
       "      <td>0</td>\n",
       "      <td>PC 17599</td>\n",
       "      <td>71.2833</td>\n",
       "      <td>C85</td>\n",
       "      <td>C</td>\n",
       "    </tr>\n",
       "    <tr>\n",
       "      <th>2</th>\n",
       "      <td>3</td>\n",
       "      <td>1</td>\n",
       "      <td>3</td>\n",
       "      <td>Heikkinen, Miss. Laina</td>\n",
       "      <td>female</td>\n",
       "      <td>26.0</td>\n",
       "      <td>0</td>\n",
       "      <td>0</td>\n",
       "      <td>STON/O2. 3101282</td>\n",
       "      <td>7.9250</td>\n",
       "      <td>missing</td>\n",
       "      <td>S</td>\n",
       "    </tr>\n",
       "    <tr>\n",
       "      <th>3</th>\n",
       "      <td>4</td>\n",
       "      <td>1</td>\n",
       "      <td>1</td>\n",
       "      <td>Futrelle, Mrs. Jacques Heath (Lily May Peel)</td>\n",
       "      <td>female</td>\n",
       "      <td>35.0</td>\n",
       "      <td>1</td>\n",
       "      <td>0</td>\n",
       "      <td>113803</td>\n",
       "      <td>53.1000</td>\n",
       "      <td>C123</td>\n",
       "      <td>S</td>\n",
       "    </tr>\n",
       "    <tr>\n",
       "      <th>4</th>\n",
       "      <td>5</td>\n",
       "      <td>0</td>\n",
       "      <td>3</td>\n",
       "      <td>Allen, Mr. William Henry</td>\n",
       "      <td>male</td>\n",
       "      <td>35.0</td>\n",
       "      <td>0</td>\n",
       "      <td>0</td>\n",
       "      <td>373450</td>\n",
       "      <td>8.0500</td>\n",
       "      <td>missing</td>\n",
       "      <td>S</td>\n",
       "    </tr>\n",
       "  </tbody>\n",
       "</table>\n",
       "</div>"
      ],
      "text/plain": [
       "   PassengerId  Survived  Pclass  \\\n",
       "0            1         0       3   \n",
       "1            2         1       1   \n",
       "2            3         1       3   \n",
       "3            4         1       1   \n",
       "4            5         0       3   \n",
       "\n",
       "                                                Name     Sex   Age  SibSp  \\\n",
       "0                            Braund, Mr. Owen Harris    male  22.0      1   \n",
       "1  Cumings, Mrs. John Bradley (Florence Briggs Th...  female  38.0      1   \n",
       "2                             Heikkinen, Miss. Laina  female  26.0      0   \n",
       "3       Futrelle, Mrs. Jacques Heath (Lily May Peel)  female  35.0      1   \n",
       "4                           Allen, Mr. William Henry    male  35.0      0   \n",
       "\n",
       "   Parch            Ticket     Fare    Cabin Embarked  \n",
       "0      0         A/5 21171   7.2500  missing        S  \n",
       "1      0          PC 17599  71.2833      C85        C  \n",
       "2      0  STON/O2. 3101282   7.9250  missing        S  \n",
       "3      0            113803  53.1000     C123        S  \n",
       "4      0            373450   8.0500  missing        S  "
      ]
     },
     "execution_count": 22,
     "metadata": {},
     "output_type": "execute_result"
    }
   ],
   "source": [
    "df.head()"
   ]
  },
  {
   "cell_type": "code",
   "execution_count": 23,
   "metadata": {},
   "outputs": [
    {
     "data": {
      "text/plain": [
       "0.8156424581005587"
      ]
     },
     "execution_count": 23,
     "metadata": {},
     "output_type": "execute_result"
    }
   ],
   "source": [
    "np.random.seed(42)\n",
    "X_train,X_test,y_train,y_test = train_test_split(transformed_X,y, test_size=0.2)\n",
    "clf = RandomForestClassifier(max_depth = 22, random_state=42)\n",
    "clf.fit(X_train,y_train)\n",
    "clf.score(X_test,y_test)"
   ]
  },
  {
   "cell_type": "code",
   "execution_count": 24,
   "metadata": {},
   "outputs": [
    {
     "data": {
      "text/plain": [
       "array([0, 0, 0, 1, 1, 1, 1, 0, 1, 1, 0, 0, 0, 0, 0, 1, 0, 0, 0, 0, 0, 0,\n",
       "       0, 0, 0, 0, 0, 0, 0, 0, 0, 0, 0, 0, 0, 0, 0, 1, 1, 0, 0, 0, 0, 0,\n",
       "       1, 0, 0, 0, 0, 0, 1, 1, 0, 1, 0, 1, 0, 1, 1, 1, 0, 1, 1, 0, 0, 1,\n",
       "       0, 0, 0, 1, 1, 1, 0, 1, 0, 0, 0, 1, 1, 0, 0, 1, 1, 0, 0, 0, 1, 1,\n",
       "       0, 0, 0, 0, 0, 0, 0, 0, 0, 0, 1, 0, 0, 0, 1, 0, 0, 0, 1, 0, 0, 0,\n",
       "       1, 0, 1, 0, 0, 0, 0, 0, 1, 0, 0, 1, 1, 0, 0, 0, 1, 0, 1, 0, 1, 0,\n",
       "       0, 1, 0, 1, 1, 0, 0, 0, 0, 1, 0, 0, 0, 1, 0, 0, 1, 0, 0, 0, 0, 1,\n",
       "       0, 0, 0, 1, 1, 1, 0, 0, 0, 1, 0, 0, 0, 1, 0, 0, 0, 1, 0, 1, 0, 0,\n",
       "       0, 1, 1], dtype=int64)"
      ]
     },
     "execution_count": 24,
     "metadata": {},
     "output_type": "execute_result"
    }
   ],
   "source": [
    "y_preds = clf.predict(X_test)\n",
    "y_preds"
   ]
  },
  {
   "cell_type": "code",
   "execution_count": 25,
   "metadata": {},
   "outputs": [
    {
     "data": {
      "text/plain": [
       "709    1\n",
       "439    0\n",
       "840    0\n",
       "720    1\n",
       "39     1\n",
       "      ..\n",
       "433    0\n",
       "773    0\n",
       "25     1\n",
       "84     1\n",
       "10     1\n",
       "Name: Survived, Length: 179, dtype: int64"
      ]
     },
     "execution_count": 25,
     "metadata": {},
     "output_type": "execute_result"
    }
   ],
   "source": [
    "y_test"
   ]
  },
  {
   "cell_type": "code",
   "execution_count": 26,
   "metadata": {},
   "outputs": [
    {
     "data": {
      "text/plain": [
       "<179x1732 sparse matrix of type '<class 'numpy.float64'>'\n",
       "\twith 1706 stored elements in Compressed Sparse Row format>"
      ]
     },
     "execution_count": 26,
     "metadata": {},
     "output_type": "execute_result"
    }
   ],
   "source": [
    "X_test"
   ]
  },
  {
   "cell_type": "code",
   "execution_count": 27,
   "metadata": {},
   "outputs": [
    {
     "data": {
      "text/plain": [
       "(712, 179)"
      ]
     },
     "execution_count": 27,
     "metadata": {},
     "output_type": "execute_result"
    }
   ],
   "source": [
    "len(y_train), len(y_test)"
   ]
  },
  {
   "cell_type": "code",
   "execution_count": 28,
   "metadata": {},
   "outputs": [
    {
     "name": "stdout",
     "output_type": "stream",
     "text": [
      "The accuracy score of the model is : 81.56%\n"
     ]
    }
   ],
   "source": [
    "# print the model accuracy score\n",
    "print(f\"The accuracy score of the model is : {accuracy_score(y_test,y_preds)*100:.2f}%\")"
   ]
  },
  {
   "cell_type": "code",
   "execution_count": 29,
   "metadata": {},
   "outputs": [
    {
     "name": "stdout",
     "output_type": "stream",
     "text": [
      "[[97  8]\n",
      " [25 49]]\n"
     ]
    }
   ],
   "source": [
    "# print the confusion matrix of model\n",
    "print(confusion_matrix(y_test,y_preds))"
   ]
  },
  {
   "cell_type": "code",
   "execution_count": 30,
   "metadata": {},
   "outputs": [
    {
     "name": "stdout",
     "output_type": "stream",
     "text": [
      "              precision    recall  f1-score   support\n",
      "\n",
      "           0       0.80      0.92      0.85       105\n",
      "           1       0.86      0.66      0.75        74\n",
      "\n",
      "    accuracy                           0.82       179\n",
      "   macro avg       0.83      0.79      0.80       179\n",
      "weighted avg       0.82      0.82      0.81       179\n",
      "\n"
     ]
    }
   ],
   "source": [
    "# print the classification report\n",
    "print(classification_report(y_test,y_preds))"
   ]
  },
  {
   "cell_type": "markdown",
   "metadata": {},
   "source": [
    "# Receiver operating characteristics (ROC) curve"
   ]
  },
  {
   "cell_type": "code",
   "execution_count": 31,
   "metadata": {},
   "outputs": [
    {
     "data": {
      "text/plain": [
       "array([[0.76620804, 0.23379196],\n",
       "       [0.83826186, 0.16173814],\n",
       "       [0.8769257 , 0.1230743 ],\n",
       "       [0.25712319, 0.74287681],\n",
       "       [0.39826602, 0.60173398],\n",
       "       [0.27342317, 0.72657683],\n",
       "       [0.4166306 , 0.5833694 ],\n",
       "       [0.84846249, 0.15153751],\n",
       "       [0.39129477, 0.60870523],\n",
       "       [0.25139899, 0.74860101],\n",
       "       [0.66067933, 0.33932067],\n",
       "       [0.8777883 , 0.1222117 ],\n",
       "       [0.68489028, 0.31510972],\n",
       "       [0.86981824, 0.13018176],\n",
       "       [0.83258355, 0.16741645],\n",
       "       [0.23568169, 0.76431831],\n",
       "       [0.65797401, 0.34202599],\n",
       "       [0.50403183, 0.49596817],\n",
       "       [0.83565012, 0.16434988],\n",
       "       [0.74984069, 0.25015931],\n",
       "       [0.88129677, 0.11870323],\n",
       "       [0.80599698, 0.19400302],\n",
       "       [0.57329587, 0.42670413],\n",
       "       [0.88756021, 0.11243979],\n",
       "       [0.85780066, 0.14219934],\n",
       "       [0.84737045, 0.15262955],\n",
       "       [0.80003015, 0.19996985],\n",
       "       [0.83076278, 0.16923722],\n",
       "       [0.79827282, 0.20172718],\n",
       "       [0.54475092, 0.45524908],\n",
       "       [0.877495  , 0.122505  ],\n",
       "       [0.54502399, 0.45497601],\n",
       "       [0.75793681, 0.24206319],\n",
       "       [0.54073073, 0.45926927],\n",
       "       [0.88228243, 0.11771757],\n",
       "       [0.79177321, 0.20822679],\n",
       "       [0.71087664, 0.28912336],\n",
       "       [0.42556512, 0.57443488],\n",
       "       [0.25261318, 0.74738682],\n",
       "       [0.88808856, 0.11191144],\n",
       "       [0.81408904, 0.18591096],\n",
       "       [0.88239677, 0.11760323],\n",
       "       [0.8864257 , 0.1135743 ],\n",
       "       [0.87241224, 0.12758776],\n",
       "       [0.44811295, 0.55188705],\n",
       "       [0.86295208, 0.13704792],\n",
       "       [0.88046063, 0.11953937],\n",
       "       [0.87963624, 0.12036376],\n",
       "       [0.88302714, 0.11697286],\n",
       "       [0.56265544, 0.43734456],\n",
       "       [0.19268503, 0.80731497],\n",
       "       [0.15948692, 0.84051308],\n",
       "       [0.84229192, 0.15770808],\n",
       "       [0.34265527, 0.65734473],\n",
       "       [0.86531048, 0.13468952],\n",
       "       [0.1684862 , 0.8315138 ],\n",
       "       [0.8528424 , 0.1471576 ],\n",
       "       [0.23381427, 0.76618573],\n",
       "       [0.32550796, 0.67449204],\n",
       "       [0.40164333, 0.59835667],\n",
       "       [0.87943159, 0.12056841],\n",
       "       [0.29353719, 0.70646281],\n",
       "       [0.29404357, 0.70595643],\n",
       "       [0.83712127, 0.16287873],\n",
       "       [0.86018659, 0.13981341],\n",
       "       [0.2684891 , 0.7315109 ],\n",
       "       [0.81870468, 0.18129532],\n",
       "       [0.87849161, 0.12150839],\n",
       "       [0.81580918, 0.18419082],\n",
       "       [0.17089607, 0.82910393],\n",
       "       [0.28725065, 0.71274935],\n",
       "       [0.19715169, 0.80284831],\n",
       "       [0.63164998, 0.36835002],\n",
       "       [0.14604384, 0.85395616],\n",
       "       [0.88672104, 0.11327896],\n",
       "       [0.86198822, 0.13801178],\n",
       "       [0.5177167 , 0.4822833 ],\n",
       "       [0.1960604 , 0.8039396 ],\n",
       "       [0.31699677, 0.68300323],\n",
       "       [0.52778495, 0.47221505],\n",
       "       [0.86279061, 0.13720939],\n",
       "       [0.26621689, 0.73378311],\n",
       "       [0.14483895, 0.85516105],\n",
       "       [0.87862168, 0.12137832],\n",
       "       [0.69614715, 0.30385285],\n",
       "       [0.77794811, 0.22205189],\n",
       "       [0.1660754 , 0.8339246 ],\n",
       "       [0.16232633, 0.83767367],\n",
       "       [0.8570958 , 0.1429042 ],\n",
       "       [0.88407327, 0.11592673],\n",
       "       [0.81025851, 0.18974149],\n",
       "       [0.7560102 , 0.2439898 ],\n",
       "       [0.71632918, 0.28367082],\n",
       "       [0.86031556, 0.13968444],\n",
       "       [0.87564872, 0.12435128],\n",
       "       [0.88060925, 0.11939075],\n",
       "       [0.69665023, 0.30334977],\n",
       "       [0.87956255, 0.12043745],\n",
       "       [0.24638089, 0.75361911],\n",
       "       [0.8813861 , 0.1186139 ],\n",
       "       [0.82021978, 0.17978022],\n",
       "       [0.88751804, 0.11248196],\n",
       "       [0.12005391, 0.87994609],\n",
       "       [0.88088978, 0.11911022],\n",
       "       [0.88473395, 0.11526605],\n",
       "       [0.88122262, 0.11877738],\n",
       "       [0.3002651 , 0.6997349 ],\n",
       "       [0.71407548, 0.28592452],\n",
       "       [0.86898476, 0.13101524],\n",
       "       [0.68749469, 0.31250531],\n",
       "       [0.23487893, 0.76512107],\n",
       "       [0.88265866, 0.11734134],\n",
       "       [0.13710239, 0.86289761],\n",
       "       [0.71283886, 0.28716114],\n",
       "       [0.60009074, 0.39990926],\n",
       "       [0.86988974, 0.13011026],\n",
       "       [0.71858412, 0.28141588],\n",
       "       [0.68994862, 0.31005138],\n",
       "       [0.28613954, 0.71386046],\n",
       "       [0.61266087, 0.38733913],\n",
       "       [0.77479858, 0.22520142],\n",
       "       [0.18541811, 0.81458189],\n",
       "       [0.18029974, 0.81970026],\n",
       "       [0.54900472, 0.45099528],\n",
       "       [0.88382996, 0.11617004],\n",
       "       [0.76435384, 0.23564616],\n",
       "       [0.22826424, 0.77173576],\n",
       "       [0.66929926, 0.33070074],\n",
       "       [0.39659305, 0.60340695],\n",
       "       [0.88077601, 0.11922399],\n",
       "       [0.41324229, 0.58675771],\n",
       "       [0.82069338, 0.17930662],\n",
       "       [0.86822592, 0.13177408],\n",
       "       [0.4066394 , 0.5933606 ],\n",
       "       [0.59177036, 0.40822964],\n",
       "       [0.42392102, 0.57607898],\n",
       "       [0.19328818, 0.80671182],\n",
       "       [0.88076933, 0.11923067],\n",
       "       [0.88806275, 0.11193725],\n",
       "       [0.53438315, 0.46561685],\n",
       "       [0.88756021, 0.11243979],\n",
       "       [0.30726703, 0.69273297],\n",
       "       [0.83089199, 0.16910801],\n",
       "       [0.81548251, 0.18451749],\n",
       "       [0.55501084, 0.44498916],\n",
       "       [0.28959898, 0.71040102],\n",
       "       [0.85109134, 0.14890866],\n",
       "       [0.82799413, 0.17200587],\n",
       "       [0.16814074, 0.83185926],\n",
       "       [0.88536847, 0.11463153],\n",
       "       [0.84767153, 0.15232847],\n",
       "       [0.88355046, 0.11644954],\n",
       "       [0.88735556, 0.11264444],\n",
       "       [0.39317604, 0.60682396],\n",
       "       [0.87507941, 0.12492059],\n",
       "       [0.88920978, 0.11079022],\n",
       "       [0.64281857, 0.35718143],\n",
       "       [0.40868254, 0.59131746],\n",
       "       [0.29463491, 0.70536509],\n",
       "       [0.46334644, 0.53665356],\n",
       "       [0.84839252, 0.15160748],\n",
       "       [0.80705774, 0.19294226],\n",
       "       [0.83626703, 0.16373297],\n",
       "       [0.22802837, 0.77197163],\n",
       "       [0.81565699, 0.18434301],\n",
       "       [0.73619248, 0.26380752],\n",
       "       [0.84592443, 0.15407557],\n",
       "       [0.21913989, 0.78086011],\n",
       "       [0.88240069, 0.11759931],\n",
       "       [0.87975   , 0.12025   ],\n",
       "       [0.68564393, 0.31435607],\n",
       "       [0.30726624, 0.69273376],\n",
       "       [0.70384295, 0.29615705],\n",
       "       [0.42281649, 0.57718351],\n",
       "       [0.87341705, 0.12658295],\n",
       "       [0.86582964, 0.13417036],\n",
       "       [0.58638783, 0.41361217],\n",
       "       [0.38753224, 0.61246776],\n",
       "       [0.42781925, 0.57218075]])"
      ]
     },
     "execution_count": 31,
     "metadata": {},
     "output_type": "execute_result"
    }
   ],
   "source": [
    "y_probs = clf.predict_proba(X_test)\n",
    "y_probs"
   ]
  },
  {
   "cell_type": "code",
   "execution_count": 32,
   "metadata": {},
   "outputs": [
    {
     "data": {
      "text/plain": [
       "array([0.23379196, 0.16173814, 0.1230743 , 0.74287681, 0.60173398,\n",
       "       0.72657683, 0.5833694 , 0.15153751, 0.60870523, 0.74860101])"
      ]
     },
     "execution_count": 32,
     "metadata": {},
     "output_type": "execute_result"
    }
   ],
   "source": [
    "y_probs_positive = y_probs[:,1]\n",
    "y_probs_positive[:10]"
   ]
  },
  {
   "cell_type": "code",
   "execution_count": 33,
   "metadata": {},
   "outputs": [],
   "source": [
    "fpr, tpr, threshold = roc_curve(y_test,y_probs_positive)"
   ]
  },
  {
   "cell_type": "code",
   "execution_count": 34,
   "metadata": {},
   "outputs": [
    {
     "data": {
      "text/plain": [
       "array([0.        , 0.        , 0.        , 0.00952381, 0.00952381,\n",
       "       0.01904762, 0.01904762, 0.03809524, 0.03809524, 0.04761905,\n",
       "       0.04761905, 0.05714286, 0.05714286, 0.07619048, 0.07619048,\n",
       "       0.12380952, 0.12380952, 0.14285714, 0.14285714, 0.16190476,\n",
       "       0.16190476, 0.19047619, 0.19047619, 0.20952381, 0.20952381,\n",
       "       0.27619048, 0.27619048, 0.32380952, 0.32380952, 0.38095238,\n",
       "       0.38095238, 0.39047619, 0.39047619, 0.61904762, 0.61904762,\n",
       "       0.73333333, 0.73333333, 0.82857143, 0.82857143, 0.95238095,\n",
       "       0.97142857, 1.        ])"
      ]
     },
     "execution_count": 34,
     "metadata": {},
     "output_type": "execute_result"
    }
   ],
   "source": [
    "fpr"
   ]
  },
  {
   "cell_type": "code",
   "execution_count": 35,
   "metadata": {},
   "outputs": [
    {
     "data": {
      "text/plain": [
       "array([0.        , 0.01351351, 0.36486486, 0.36486486, 0.39189189,\n",
       "       0.39189189, 0.47297297, 0.47297297, 0.54054054, 0.54054054,\n",
       "       0.62162162, 0.62162162, 0.66216216, 0.66216216, 0.67567568,\n",
       "       0.67567568, 0.7027027 , 0.7027027 , 0.74324324, 0.74324324,\n",
       "       0.78378378, 0.78378378, 0.81081081, 0.81081081, 0.86486486,\n",
       "       0.86486486, 0.89189189, 0.89189189, 0.93243243, 0.93243243,\n",
       "       0.94594595, 0.94594595, 0.95945946, 0.95945946, 0.97297297,\n",
       "       0.97297297, 0.98648649, 0.98648649, 1.        , 1.        ,\n",
       "       1.        , 1.        ])"
      ]
     },
     "execution_count": 35,
     "metadata": {},
     "output_type": "execute_result"
    }
   ],
   "source": [
    "tpr"
   ]
  },
  {
   "cell_type": "code",
   "execution_count": 36,
   "metadata": {},
   "outputs": [
    {
     "data": {
      "text/plain": [
       "array([1.87994609, 0.87994609, 0.73378311, 0.7315109 , 0.71386046,\n",
       "       0.71274935, 0.69273376, 0.68300323, 0.60682396, 0.60340695,\n",
       "       0.5833694 , 0.57718351, 0.57218075, 0.53665356, 0.49596817,\n",
       "       0.45524908, 0.45099528, 0.43734456, 0.40822964, 0.38733913,\n",
       "       0.34202599, 0.31510972, 0.31250531, 0.30385285, 0.28716114,\n",
       "       0.24206319, 0.23379196, 0.19996985, 0.18974149, 0.17978022,\n",
       "       0.17930662, 0.17200587, 0.16923722, 0.13177408, 0.13101524,\n",
       "       0.12056841, 0.12043745, 0.1186139 , 0.11771757, 0.11248196,\n",
       "       0.11243979, 0.11079022])"
      ]
     },
     "execution_count": 36,
     "metadata": {},
     "output_type": "execute_result"
    }
   ],
   "source": [
    "threshold"
   ]
  },
  {
   "cell_type": "markdown",
   "metadata": {},
   "source": [
    "## plotting the roc_curve"
   ]
  },
  {
   "cell_type": "code",
   "execution_count": 37,
   "metadata": {},
    {
     "data": {
      "image/png": "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\n",
      "text/plain": [
       "<Figure size 432x288 with 1 Axes>"
      ]
     },
     "metadata": {
      "needs_background": "light"
     },
     "output_type": "display_data"
    }
   ],
   "source": [
    "%matplotlib inline\n",
    "import matplotlib.pyplot as plt\n",
    "\n",
    "def plot_roc_curve(fpr,tpr):\n",
    "    \"\"\"\n",
    "    A plot to show the roc curve of the model. Given the false positive rate (fpr) and true positive rate (tpr) of the model.\n",
    "    \n",
    "    \"\"\"\n",
    "    plt.plot(fpr,tpr, color=\"darkblue\", label=\"ROC\")\n",
    "    plt.plot([0,1],[0,1], color=\"red\", label=\"Guessing\")\n",
    "    plt.title(\"ROC curve of titanic survival predictive analysis\", fontsize=20)\n",
    "    plt.xlabel(\"False positive rate\", fontsize=18)\n",
    "    plt.ylabel(\"True positive rate\", fontsize=16)\n",
    "    plt.show()\n",
    "    \n",
    "plot_roc_curve(fpr,tpr)\n",
    "\n"
   ]
  },
  {
   "cell_type": "code",
   "execution_count": null,
   "metadata": {},
   "outputs": [],
   "source": []
  }
 ],
 "metadata": {
  "kernelspec": {
   "display_name": "Python 3",
   "language": "python",
   "name": "python3"
  },
  "language_info": {
   "codemirror_mode": {
    "name": "ipython",
    "version": 3
   },
   "file_extension": ".py",
   "mimetype": "text/x-python",
   "name": "python",
   "nbconvert_exporter": "python",
   "pygments_lexer": "ipython3",
   "version": "3.7.6"
  }
 },
 "nbformat": 4,
 "nbformat_minor": 4
}
